{
 "cells": [
  {
   "cell_type": "markdown",
   "id": "40c521df",
   "metadata": {},
   "source": [
    "<h3>Question 1</h3>"
   ]
  },
  {
   "cell_type": "code",
   "execution_count": null,
   "id": "ec5fdf18",
   "metadata": {},
   "outputs": [],
   "source": [
    "P(A)=probability of a diamond card in first draw\n",
    "P(A)=13/52\n",
    "P(B)=probability of a hreat card in second draw\n",
    "P(B)=13/51\n",
    "P(C)=probability of spade card in third draw\n",
    "P(C)=13/50"
   ]
  },
  {
   "cell_type": "code",
   "execution_count": 3,
   "id": "4e949134",
   "metadata": {},
   "outputs": [
    {
     "name": "stdout",
     "output_type": "stream",
     "text": [
      "The total probability is 0.01656862745098039\n"
     ]
    }
   ],
   "source": [
    "PA=13/52\n",
    "PB=13/51\n",
    "PC=13/50\n",
    "P=PA*PB*PC\n",
    "print(\"The total probability is\",P)"
   ]
  },
  {
   "cell_type": "markdown",
   "id": "be424d3b",
   "metadata": {},
   "source": [
    "<h3>Question 2</h3>"
   ]
  },
  {
   "cell_type": "code",
   "execution_count": null,
   "id": "c917f8ba",
   "metadata": {},
   "outputs": [],
   "source": [
    "p(A)=probability of linking action movies=42/100\n",
    "P(B)=probability of linking comedy movies=54/100\n",
    "P(C)=probability of linking drama movies=36/100\n",
    "P(D)=probability of linking horror movies=12/100\n",
    "P(E)=probability of either action or drama\n",
    "P(F)=probability of either comedy or horror"
   ]
  },
  {
   "cell_type": "code",
   "execution_count": 5,
   "id": "35242c51",
   "metadata": {},
   "outputs": [
    {
     "name": "stdout",
     "output_type": "stream",
     "text": [
      "probability of either action or drama : 0.77\n",
      "probability of either comedy or horror : 0.66\n"
     ]
    }
   ],
   "source": [
    "PA=41/100\n",
    "PB=54/100\n",
    "PC=36/100\n",
    "PD=12/100\n",
    "PE=PA+PC\n",
    "PF=PB+PD\n",
    "print(\"probability of either action or drama :\",PE)\n",
    "print(\"probability of either comedy or horror :\",PF)"
   ]
  },
  {
   "cell_type": "markdown",
   "id": "0999b042",
   "metadata": {},
   "source": [
    "<h3>Question 3</h3>"
   ]
  },
  {
   "cell_type": "code",
   "execution_count": null,
   "id": "a2d7c580",
   "metadata": {},
   "outputs": [],
   "source": [
    "P(A)=probability of bag A\n",
    "P(B)=probability of bag B\n",
    "P(C)=probability of blackball from bag A\n",
    "P(D)=probability of blackball from bag B"
   ]
  },
  {
   "cell_type": "code",
   "execution_count": 7,
   "id": "a9aa5059",
   "metadata": {},
   "outputs": [
    {
     "name": "stdout",
     "output_type": "stream",
     "text": [
      "The probability of bag B selected is: 0.6732954545454546\n"
     ]
    }
   ],
   "source": [
    "PA=PB=1/2\n",
    "PC=5/8\n",
    "PD=7/11\n",
    "P=(PB+PD)*(PA*PC)+(PB*PD)\n",
    "print(\"The probability of bag B selected is:\",P)"
   ]
  },
  {
   "cell_type": "markdown",
   "id": "bc4320ca",
   "metadata": {},
   "source": [
    "<h3>Question 4</h3>"
   ]
  },
  {
   "cell_type": "code",
   "execution_count": 11,
   "id": "50e74473",
   "metadata": {},
   "outputs": [
    {
     "name": "stdout",
     "output_type": "stream",
     "text": [
      "The probability of receiving 10 app in 1min is: 0.08583037040867346\n",
      "The probability of receiving 17 app in 2min is: 0.0011688649831234608\n"
     ]
    }
   ],
   "source": [
    "λ=450/60\n",
    "from scipy.stats import poisson\n",
    "X=poisson.pmf(k=10,mu=λ)\n",
    "print(\"The probability of receiving 10 app in 1min is:\",X)\n",
    "Y=poisson.pmf(k=17,mu=λ)\n",
    "print(\"The probability of receiving 17 app in 2min is:\",Y)"
   ]
  },
  {
   "cell_type": "markdown",
   "id": "77fbc6a6",
   "metadata": {},
   "source": [
    "<h3>Question 6</h3>"
   ]
  },
  {
   "cell_type": "code",
   "execution_count": 9,
   "id": "5de0b8c7",
   "metadata": {},
   "outputs": [
    {
     "name": "stdout",
     "output_type": "stream",
     "text": [
      "75th percentile is: 359273.75\n"
     ]
    }
   ],
   "source": [
    "z=0.675\n",
    "mu=350870\n",
    "sigma=12450\n",
    "x=mu+(z*sigma)\n",
    "print(\"75th percentile is:\",x)"
   ]
  },
  {
   "cell_type": "markdown",
   "id": "2dbd2aaa",
   "metadata": {},
   "source": [
    "<h3>Question 7</h3>"
   ]
  },
  {
   "cell_type": "code",
   "execution_count": 8,
   "id": "a13c6b7e",
   "metadata": {},
   "outputs": [
    {
     "name": "stdout",
     "output_type": "stream",
     "text": [
      "F-STATISTIC is  : 0.9921235138705414\n"
     ]
    }
   ],
   "source": [
    "UC=[44,21,36,34,77,32,29,39,92,67,45,37]\n",
    "MV=[47,81,41,79,38,20,33,83,41,40,69,36]\n",
    "import numpy as np\n",
    "x = np.array(UC)\n",
    "y = np.array(MV)\n",
    "f = np.var(x, ddof=1)/np.var(y, ddof=1)\n",
    "print(\"F-STATISTIC is  :\",f)"
   ]
  },
  {
   "cell_type": "markdown",
   "id": "2b3518fc",
   "metadata": {},
   "source": [
    "<h3>Question 9</h3"
   ]
  },
  {
   "cell_type": "code",
   "execution_count": 6,
   "id": "953106f2",
   "metadata": {},
   "outputs": [
    {
     "name": "stdout",
     "output_type": "stream",
     "text": [
      "0.040177141568228006\n"
     ]
    }
   ],
   "source": [
    "from scipy.stats import poisson\n",
    "prob=poisson.pmf(k=80,mu=76)\n",
    "print(prob)"
   ]
  },
  {
   "cell_type": "code",
   "execution_count": null,
   "id": "3335b554",
   "metadata": {},
   "outputs": [],
   "source": []
  }
 ],
 "metadata": {
  "kernelspec": {
   "display_name": "Python 3 (ipykernel)",
   "language": "python",
   "name": "python3"
  },
  "language_info": {
   "codemirror_mode": {
    "name": "ipython",
    "version": 3
   },
   "file_extension": ".py",
   "mimetype": "text/x-python",
   "name": "python",
   "nbconvert_exporter": "python",
   "pygments_lexer": "ipython3",
   "version": "3.9.7"
  }
 },
 "nbformat": 4,
 "nbformat_minor": 5
}
